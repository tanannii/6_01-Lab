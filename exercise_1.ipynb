{
 "cells": [
  {
   "cell_type": "markdown",
   "metadata": {},
   "source": [
    "# Hands-on: Introduction to Python Programming"
   ]
  },
  {
   "cell_type": "markdown",
   "metadata": {},
   "source": [
    "## Exercise 1: Mailing Address\n",
    "Create a program that displays your name and complete mailing address formatted in the manner that you would usually see it on the outside of an envelope. Your program\n",
    "does not need to read any input from the user."
   ]
  },
  {
   "cell_type": "code",
   "execution_count": 5,
   "metadata": {},
   "outputs": [
    {
     "name": "stdout",
     "output_type": "stream",
     "text": [
      "Tan Anni \n",
      "Blk 123 ABC Road #01-01 \n",
      "Spore 123456\n"
     ]
    }
   ],
   "source": [
    "print(\"\"\"Tan Anni \n",
    "Blk 123 ABC Road #01-01 \n",
    "Spore 123456\"\"\")"
   ]
  },
  {
   "cell_type": "markdown",
   "metadata": {},
   "source": [
    "## Exercise 2: Area of a Room\n",
    "Write a program that asks the user to enter the width and length of a room. Once the values have been read, your program should compute and display the area of the room. The length and the width will be entered as floating point numbers. Include units in your prompt and output message; either feet or meters, depending on which\n",
    "unit you are more comfortable working with."
   ]
  },
  {
   "cell_type": "code",
   "execution_count": 25,
   "metadata": {},
   "outputs": [
    {
     "name": "stdout",
     "output_type": "stream",
     "text": [
      "Enter length of the room in meters: 10.2\n",
      "Enter width of the room in meters: 20.1\n",
      "area of room in square meters =  205.02\n"
     ]
    }
   ],
   "source": [
    "# code for help\n",
    "length = float(input(\"Enter length of the room in meters: \"))\n",
    "width = float(input(\"Enter width of the room in meters: \"))\n",
    "\n",
    "area = float(length*width)\n",
    "print(\"area of room in square meters = \", area)\n",
    "\n"
   ]
  },
  {
   "cell_type": "markdown",
   "metadata": {},
   "source": [
    "## Exercise 3: Area of a Field\n",
    "Create a program that reads the length and width of a farmer’s field from the user in\n",
    "feet. Display the area of the field in acres.\n",
    "Hint: There are 43,560 square feet in an acre."
   ]
  },
  {
   "cell_type": "code",
   "execution_count": null,
   "metadata": {},
   "outputs": [],
   "source": [
    "length = float(input(\"Enter length of the field in feet: \"))\n",
    "width = float(input(\"Enter width of the field in feet: \"))\n",
    "\n",
    "area = float(length*width/43560)\n",
    "print(\"area of field in acres = \", area)\n",
    "#print (f'Area of the farm is {area_in_acres:.2f} acres')"
   ]
  },
  {
   "cell_type": "markdown",
   "metadata": {},
   "source": [
    "## Exercise 4: Bottle Deposits\n",
    "\n",
    "In many jurisdictions a small deposit is added to drink containers to encourage people to recycle them. In one particular jurisdiction, drink containers holding one liter or less have a \\$0.1$ deposit and drink containers holding more than one liter have a $0.25$ deposit.\n",
    "Write a program that reads the number of containers of each size from the user.\n",
    "Your program should continue by computing and displaying the refund that will be received for returning those containers. Format the output so that it includes a dollar sign and always displays exactly two decimal places."
   ]
  },
  {
   "cell_type": "code",
   "execution_count": 16,
   "metadata": {},
   "outputs": [
    {
     "data": {
      "text/plain": [
       "2.57"
      ]
     },
     "execution_count": 16,
     "metadata": {},
     "output_type": "execute_result"
    }
   ],
   "source": [
    "#code for help\n",
    "round(2.5678,2)"
   ]
  },
  {
   "cell_type": "code",
   "execution_count": 23,
   "metadata": {},
   "outputs": [
    {
     "name": "stdout",
     "output_type": "stream",
     "text": [
      "Number of containers holding one liter or less: 10\n",
      "Number of containers holding more than one liter: 10\n",
      "Total Refund = $ 3.50\n"
     ]
    }
   ],
   "source": [
    "# <1l have 0.1 deposit\n",
    "# > 1l have 0.25 deposit\n",
    "\n",
    "small = float(input(\"Number of containers holding one liter or less: \"))\n",
    "large = float(input(\"Number of containers holding more than one liter: \"))\n",
    "\n",
    "refund = small*0.1 + large*0.25\n",
    "\n",
    "print(\"Total Refund = $\", format(refund, \".2f\"))\n"
   ]
  },
  {
   "cell_type": "code",
   "execution_count": null,
   "metadata": {},
   "outputs": [],
   "source": []
  }
 ],
 "metadata": {
  "kernelspec": {
   "display_name": "Python 3",
   "language": "python",
   "name": "python3"
  },
  "language_info": {
   "codemirror_mode": {
    "name": "ipython",
    "version": 3
   },
   "file_extension": ".py",
   "mimetype": "text/x-python",
   "name": "python",
   "nbconvert_exporter": "python",
   "pygments_lexer": "ipython3",
   "version": "3.8.8"
  }
 },
 "nbformat": 4,
 "nbformat_minor": 2
}
